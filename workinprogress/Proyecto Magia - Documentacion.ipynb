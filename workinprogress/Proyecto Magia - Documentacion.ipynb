{
 "cells": [
  {
   "cell_type": "markdown",
   "metadata": {},
   "source": [
    "# Presentación\n",
    "\n",
    "Existe un experimento sencillo de realizar que consiste en armar un globo del que cuelgan pesas, de manera tal que el numero de pesas haga que la densidad promedio de todo el objeto sea levemente inferior a la del agua. De este modo, si sumergimos el objeto en agua flotara, pero lo hara al raz. Si ahora colocamos dicho elemento dentro de un espacio cerrado donde podemos aumentar la presion (por ejemplo una botella a la que apretamos), la presion aumenta en todo el volumen lo cual obliga al volumen del globo a reducirse (PV=nRT). Al reducirse el globo aumenta la densidad del objeto (o en su contrapartida disminuye el empuje) lo que hace que la densidad se vuelva mayor a la del agua y se unda. \n",
    "\n",
    "Este experimento cuyo principal uso es la enseñanza de contenidos de hidroestatica en escuelas medias o cursos introductorios de fisica puede ser tambien utilizado con fines puramente recreativos, y como variante de los fines recretativos, si se lo construye y manipula adecuadamente (de manera que no sea obvio que se presiona la botella) puede ser utilizado como truco de magia. En este caso la magia consistiría en hacer creer que el movimiento vertical del globo (que puede ser manipulado con mucha presicion) se corresponde con algo que realize el sujeto al que se le hace la magia, por ejemplo que acerque la mano por debajo a la botella.\n",
    "\n",
    "![image](./Multimedia/materiales.jpeg \"Materiales para contruir el truco\")\n",
    "![image](./Multimedia/botella.jpeg \"Truco armado\")\n",
    "\n",
    "## Idea detras del experimento\n",
    "\n",
    "Este truco de magia concebido como tal y puesto en practica en el ambito academico hizo notar algo interesante: Cuando los sujetos a los que se les realiza el truco desconocen los motivos que hacen que el globo suba y baje, ademas mostrar asombro tienden a querer encontrar una explicación con fundamentos cientificos al efecto y en ausencia de evidencias (porque si el truco esta bien hecho no se nota que el mago aprieta la botella) inventan explicaciones. Observando cualitativamente las primeras reacciones de quienes tienen formacion academica, los sujetos tienden a justificar lo que ven en terminos de calor (por la cercania de la mano) o de magnetismo (por el componente metalico de la pesas), y al realizar pruebas cada vez mas absurdas (como por ejemplo que el sujeto pueda controlar el globo a la distancia) a veces pero no siempre se retractan de sus teorias. En particular es interesante notar que practicamente nadie se conforma con admitir que no puede justificar lo que esta sucediendo. \n",
    "\n",
    "## Primeras pruebas\n",
    "\n",
    "Con la idea de validar estas primeras impresiones y de estudiar mas en detalle la tendencia a generar hipotesis de lo que sucede tanto en sujetos que pertenecen al ambito cientifico en función de su formación especifica, como en los que no, se decidio implemenetar un protocolo para desarrollar el truco de magia y una encuesta para conocer la percepcion de los sujetos a lo largo del mismo. \n",
    "\n",
    "Para recolectar datos del experimento el truco se separa en dos etapas y la encuesta en tres:\n",
    "\n",
    "1. Se le pide a los sujetos que completen información personal, rango etario, formación, etc.\n",
    "2. Se les muestra a los sujetos (un grupo reducido para que todos puedan comprobar las cosas por su cuenta) la botella, se la gira y se muestra que hay un globo que flota, eventualmente se pide a alguno que describa lo que ve. Todo con la botella a la altura de los hombros aproximadamente.\n",
    "3. Se le pide a algun sujeto que acerque la palma de la mano extendida desde el lado de abajo hasta tocar la botella. A medida que el sujeto lo hace se hace bajar el globo de manera que mas o menos concuerde el momento en que el sujeto y el globo tocan el fondo de la botella. Se mantiene el globo abajo todo el tiempo que el sujeto manetenga la mano cerca de la botella. Si hay desconfianza se repite la prueba con mas de un sujeto. En esta instancia es comun que los sujetos comiencen a hacer preguntas, en lugar de responderlas, se les pide que completen la encuesta.\n",
    "4. Los sujetos completan una encuesta donde se presentan diversos causales posibles de lo que acaba de suceder junto a una escala de confianza para indicar cuan factible es cada causal. Una de las opciones es el desconocimiento, se pide que valoren todas pero indiquen una como la mas factible. Tambien se les proporcional un espacio para hacer comentarios. \n",
    "5. Una vez que los sujetos completaron la encuesta se repite el exprimento pero elevando el grado de absurdo, para ello se pide nuevamente a un sujeto (preferiblemente uno nuevo) que acerque la mano pero esta vez no del todo y se hace bajar el globo. Cuando el globo esta abajo se le pide que cierre la mano y que diga si siente que esta agarrando al globo. Mientras se espera la respuesta (que se ignora) se mueve la botella hacia abajo redeando la mano y se hace subir el globo de manera que siempre este en el lado mas cercano a la mano de la botella. Una vez que la botella volvio a la posicion original se aleja lentamente (los sujetos siempre dejan la mano quieta) hacia atras y hacia arriba y se le pide al sujeto que cuando quiera suelte al globo. En el momento que el sujeto abre la mano (aunque sea antes del final) se debe hacer subir al globo. \n",
    "6. Hecho este segundo experimento se realiza la ultima parte de la encuesta donde basicamente se repite el cuestionario anterior, pero se agrega la opcion de indicar que el mago hizo algun \"truco\". La idea es comparar como vario la confianza en cada tipo de justifiacion y si la explicacion principal cambia o no.\n",
    "7. Una vez que se recojen todas las encuestas opcionalmente se comparte con los sujetos la explicacion cientifica tanto del proposito de la encuesta como del experimento usado como truco en si. \n",
    "\n"
   ]
  }
 ],
 "metadata": {
  "kernelspec": {
   "display_name": "Python 3",
   "language": "python",
   "name": "python3"
  },
  "language_info": {
   "codemirror_mode": {
    "name": "ipython",
    "version": 3
   },
   "file_extension": ".py",
   "mimetype": "text/x-python",
   "name": "python",
   "nbconvert_exporter": "python",
   "pygments_lexer": "ipython3",
   "version": "3.4.3"
  }
 },
 "nbformat": 4,
 "nbformat_minor": 0
}
