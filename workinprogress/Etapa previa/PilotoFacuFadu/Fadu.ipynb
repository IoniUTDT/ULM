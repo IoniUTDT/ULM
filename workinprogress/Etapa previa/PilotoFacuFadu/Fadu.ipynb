{
 "cells": [
  {
   "cell_type": "markdown",
   "metadata": {},
   "source": [
    "Procesamiento de datos del segundo fomulario. El que hice en Exactas y Fadu con aprox 15 personas en casa uno. \n",
    "\n",
    "Los datos originales estan aca:\n",
    "\n",
    "https://github.com/IoniUTDT/Magia/tree/master/PilotoFacuFadu"
   ]
  },
  {
   "cell_type": "markdown",
   "metadata": {},
   "source": [
    "El proyecto Magia es un proyecto que busca medir como responde la gente frente a una situacion novedosa y dificil de explicar en terminos fisicos. La idea es hacer un \"truco\" (el del buzo en una botella de agua) donde no es obvio porque el globo sube o baja, disfrazado de algo \"sorprendente\" y pedirle a la gente que complete una encuesta sobre que cree que esta pasando. Buscamos ver cuanto inventa la gente y con que sesgo en funcion de su formacion profesional. \n",
    "\n",
    "Los datos de la encuesta son levantados automaticamente mediante el sotware sdaps que genera los formularios y despues mediante escaneo los procesa en bloque sin necesidad de pasar los datos a manos a una compu. Del programa se puede exportar un csv con los datos en bruto. Donde a cada entrada le corresponde una encuesta completada. "
   ]
  },
  {
   "cell_type": "code",
   "execution_count": 1,
   "metadata": {},
   "outputs": [],
   "source": [
    "%load_ext autoreload\n",
    "%autoreload 2\n",
    "import pandas\n",
    "from IPython.display import display"
   ]
  },
  {
   "cell_type": "markdown",
   "metadata": {},
   "source": [
    "En el siguiente bloque cargamos los datos y los procesamos para que sean mas legibles. Para eso hay que interpretar el csv donde viene guardados. El [csv](./DataValidada_PilotoKonex.csv) se genero automaticamente por el spdaps a partir de escanear el [archivo](./questionnaire.pdf), donde como se puede ver, hay secciones, preguntas y opciones multiples. Cada seccion esta indicada en el encabezado por un primer numero, cada preguntas por un segundo numero y cada opcion por un tercero unidos con un _ luego cada fila representa una entrada donde un 1 representa seleccionado en el caso de las opciones multiples o el valor seleccionado en caso de que se tratara de una escala. "
   ]
  },
  {
   "cell_type": "code",
   "execution_count": 4,
   "metadata": {},
   "outputs": [
    {
     "data": {
      "text/plain": [
       "'Eha!'"
      ]
     },
     "metadata": {},
     "output_type": "display_data"
    },
    {
     "data": {
      "text/plain": [
       "'Edad_M'"
      ]
     },
     "metadata": {},
     "output_type": "display_data"
    },
    {
     "data": {
      "text/plain": [
       "True"
      ]
     },
     "metadata": {},
     "output_type": "display_data"
    },
    {
     "data": {
      "text/plain": [
       "'Eha!SiMu'"
      ]
     },
     "metadata": {},
     "output_type": "display_data"
    },
    {
     "data": {
      "text/plain": [
       "'Edad'"
      ]
     },
     "metadata": {},
     "output_type": "display_data"
    },
    {
     "name": "stdout",
     "output_type": "stream",
     "text": [
      "<5\n",
      "5-12\n",
      "13-17\n",
      "18-24\n",
      "25-40\n",
      ">40\n"
     ]
    }
   ],
   "source": [
    "data = pandas.read_csv('./Data_Exp2.csv')\n",
    "with open('Codigos.txt') as f:\n",
    "    lineas = f.readlines()\n",
    "\n",
    "grupos = []\n",
    "subGrupo = []\n",
    "\n",
    "for linea in lineas:\n",
    "    if linea == \"\\n\":\n",
    "        grupos.append(subGrupo)\n",
    "        subGrupo = []\n",
    "    else:\n",
    "        subGrupo.append(linea.split('\\n')[0])\n",
    "if not subGrupo == []:\n",
    "    grupos.append(subGrupo)\n",
    "\n",
    "for grupo in grupos:\n",
    "    encabezado = grupo[0]\n",
    "    multiples = False\n",
    "    if encabezado[-2:] == '_M':\n",
    "        display ('Eha!')\n",
    "        display (encabezado)\n",
    "        multiples=True\n",
    "        encabezado = encabezado[:-2]\n",
    "    inicio = grupo[1]\n",
    "    opciones = grupo[2::]\n",
    "    \n",
    "    if len(opciones)>0:\n",
    "        titulos = [inicio+'_'+str(indice) for indice in range(len(opciones))]\n",
    "    else:\n",
    "        titulos = [grupo[1]]\n",
    "    mapeo = {x:y for x,y in zip(titulos,opciones)}\n",
    "    \n",
    "    if len(titulos) > 1:\n",
    "        display (multiples)\n",
    "        if not multiples:\n",
    "            display ('Eha!NoMu')\n",
    "            display (encabezado)\n",
    "            data[encabezado] = data[titulos].idxmax(axis=1)\n",
    "            data[encabezado].replace(mapeo, inplace=True)\n",
    "            data.loc[data[titulos].sum(axis=1)<1, encabezado] = 'NS/NC'\n",
    "            data.loc[data[titulos].sum(axis=1)>1, encabezado] = 'Null'\n",
    "        else:\n",
    "            display ('Eha!SiMu')\n",
    "            display (encabezado)\n",
    " \n",
    "            data[encabezado] = [[]] * len(data)\n",
    "            \n",
    "            for titulo in titulos:\n",
    "                print (mapeo[titulo])\n",
    "                data[encabezado] = [x if y == 0 else x + [mapeo[titulo]] for x,y in zip(data[encabezado],data[titulo])]\n",
    "    else:\n",
    "        data[encabezado] = data[titulos]\n",
    "    data = data.drop(titulos, 1)"
   ]
  },
  {
   "cell_type": "code",
   "execution_count": 5,
   "metadata": {},
   "outputs": [
    {
     "data": {
      "text/html": [
       "<div>\n",
       "<style scoped>\n",
       "    .dataframe tbody tr th:only-of-type {\n",
       "        vertical-align: middle;\n",
       "    }\n",
       "\n",
       "    .dataframe tbody tr th {\n",
       "        vertical-align: top;\n",
       "    }\n",
       "\n",
       "    .dataframe thead th {\n",
       "        text-align: right;\n",
       "    }\n",
       "</style>\n",
       "<table border=\"1\" class=\"dataframe\">\n",
       "  <thead>\n",
       "    <tr style=\"text-align: right;\">\n",
       "      <th></th>\n",
       "      <th>questionnaire_id</th>\n",
       "      <th>global_id</th>\n",
       "      <th>1_2_0</th>\n",
       "      <th>1_2_1</th>\n",
       "      <th>1_2_2</th>\n",
       "      <th>1_2_3</th>\n",
       "      <th>1_2_4</th>\n",
       "      <th>1_2_5</th>\n",
       "      <th>1_2_6</th>\n",
       "      <th>1_2_7</th>\n",
       "      <th>...</th>\n",
       "      <th>4_1_17_1</th>\n",
       "      <th>4_1_17_2</th>\n",
       "      <th>4_1_17_3</th>\n",
       "      <th>4_1_17_4</th>\n",
       "      <th>4_1_18_0</th>\n",
       "      <th>4_1_18_1</th>\n",
       "      <th>4_1_18_2</th>\n",
       "      <th>4_1_18_3</th>\n",
       "      <th>4_1_18_4</th>\n",
       "      <th>Edad</th>\n",
       "    </tr>\n",
       "  </thead>\n",
       "  <tbody>\n",
       "    <tr>\n",
       "      <th>0</th>\n",
       "      <td>['31256']</td>\n",
       "      <td>1002</td>\n",
       "      <td>0</td>\n",
       "      <td>0</td>\n",
       "      <td>0</td>\n",
       "      <td>0</td>\n",
       "      <td>0</td>\n",
       "      <td>0</td>\n",
       "      <td>0</td>\n",
       "      <td>0</td>\n",
       "      <td>...</td>\n",
       "      <td>1</td>\n",
       "      <td>0</td>\n",
       "      <td>0</td>\n",
       "      <td>0</td>\n",
       "      <td>0</td>\n",
       "      <td>1</td>\n",
       "      <td>0</td>\n",
       "      <td>0</td>\n",
       "      <td>0</td>\n",
       "      <td>[18-24]</td>\n",
       "    </tr>\n",
       "    <tr>\n",
       "      <th>1</th>\n",
       "      <td>['59406']</td>\n",
       "      <td>1002</td>\n",
       "      <td>0</td>\n",
       "      <td>0</td>\n",
       "      <td>0</td>\n",
       "      <td>0</td>\n",
       "      <td>1</td>\n",
       "      <td>0</td>\n",
       "      <td>0</td>\n",
       "      <td>0</td>\n",
       "      <td>...</td>\n",
       "      <td>1</td>\n",
       "      <td>0</td>\n",
       "      <td>0</td>\n",
       "      <td>0</td>\n",
       "      <td>0</td>\n",
       "      <td>0</td>\n",
       "      <td>1</td>\n",
       "      <td>0</td>\n",
       "      <td>0</td>\n",
       "      <td>[18-24]</td>\n",
       "    </tr>\n",
       "    <tr>\n",
       "      <th>2</th>\n",
       "      <td>['55654']</td>\n",
       "      <td>1002</td>\n",
       "      <td>0</td>\n",
       "      <td>0</td>\n",
       "      <td>0</td>\n",
       "      <td>0</td>\n",
       "      <td>0</td>\n",
       "      <td>0</td>\n",
       "      <td>0</td>\n",
       "      <td>0</td>\n",
       "      <td>...</td>\n",
       "      <td>0</td>\n",
       "      <td>0</td>\n",
       "      <td>1</td>\n",
       "      <td>0</td>\n",
       "      <td>1</td>\n",
       "      <td>0</td>\n",
       "      <td>0</td>\n",
       "      <td>0</td>\n",
       "      <td>0</td>\n",
       "      <td>[18-24]</td>\n",
       "    </tr>\n",
       "    <tr>\n",
       "      <th>3</th>\n",
       "      <td>['15766']</td>\n",
       "      <td>1002</td>\n",
       "      <td>0</td>\n",
       "      <td>1</td>\n",
       "      <td>0</td>\n",
       "      <td>0</td>\n",
       "      <td>0</td>\n",
       "      <td>0</td>\n",
       "      <td>0</td>\n",
       "      <td>0</td>\n",
       "      <td>...</td>\n",
       "      <td>1</td>\n",
       "      <td>0</td>\n",
       "      <td>0</td>\n",
       "      <td>0</td>\n",
       "      <td>1</td>\n",
       "      <td>0</td>\n",
       "      <td>0</td>\n",
       "      <td>0</td>\n",
       "      <td>0</td>\n",
       "      <td>[25-40]</td>\n",
       "    </tr>\n",
       "    <tr>\n",
       "      <th>4</th>\n",
       "      <td>['61935']</td>\n",
       "      <td>1002</td>\n",
       "      <td>0</td>\n",
       "      <td>1</td>\n",
       "      <td>0</td>\n",
       "      <td>0</td>\n",
       "      <td>0</td>\n",
       "      <td>0</td>\n",
       "      <td>0</td>\n",
       "      <td>0</td>\n",
       "      <td>...</td>\n",
       "      <td>1</td>\n",
       "      <td>0</td>\n",
       "      <td>0</td>\n",
       "      <td>0</td>\n",
       "      <td>0</td>\n",
       "      <td>0</td>\n",
       "      <td>1</td>\n",
       "      <td>0</td>\n",
       "      <td>0</td>\n",
       "      <td>[18-24]</td>\n",
       "    </tr>\n",
       "  </tbody>\n",
       "</table>\n",
       "<p>5 rows × 153 columns</p>\n",
       "</div>"
      ],
      "text/plain": [
       "  questionnaire_id  global_id  1_2_0  1_2_1  1_2_2  1_2_3  1_2_4  1_2_5  \\\n",
       "0        ['31256']       1002      0      0      0      0      0      0   \n",
       "1        ['59406']       1002      0      0      0      0      1      0   \n",
       "2        ['55654']       1002      0      0      0      0      0      0   \n",
       "3        ['15766']       1002      0      1      0      0      0      0   \n",
       "4        ['61935']       1002      0      1      0      0      0      0   \n",
       "\n",
       "   1_2_6  1_2_7   ...     4_1_17_1  4_1_17_2  4_1_17_3  4_1_17_4  4_1_18_0  \\\n",
       "0      0      0   ...            1         0         0         0         0   \n",
       "1      0      0   ...            1         0         0         0         0   \n",
       "2      0      0   ...            0         0         1         0         1   \n",
       "3      0      0   ...            1         0         0         0         1   \n",
       "4      0      0   ...            1         0         0         0         0   \n",
       "\n",
       "   4_1_18_1  4_1_18_2  4_1_18_3  4_1_18_4     Edad  \n",
       "0         1         0         0         0  [18-24]  \n",
       "1         0         1         0         0  [18-24]  \n",
       "2         0         0         0         0  [18-24]  \n",
       "3         0         0         0         0  [25-40]  \n",
       "4         0         1         0         0  [18-24]  \n",
       "\n",
       "[5 rows x 153 columns]"
      ]
     },
     "metadata": {},
     "output_type": "display_data"
    }
   ],
   "source": [
    "# data = pandas.read_csv('./Data_Exp2.csv')\n",
    "display (data.head())"
   ]
  }
 ],
 "metadata": {
  "kernelspec": {
   "display_name": "Python 3",
   "language": "python",
   "name": "python3"
  },
  "language_info": {
   "codemirror_mode": {
    "name": "ipython",
    "version": 3
   },
   "file_extension": ".py",
   "mimetype": "text/x-python",
   "name": "python",
   "nbconvert_exporter": "python",
   "pygments_lexer": "ipython3",
   "version": "3.6.5"
  }
 },
 "nbformat": 4,
 "nbformat_minor": 2
}
