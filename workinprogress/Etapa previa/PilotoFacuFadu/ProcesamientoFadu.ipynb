{
 "cells": [
  {
   "cell_type": "markdown",
   "metadata": {},
   "source": [
    "Procesamiento de datos del segundo fomulario. El que hice en Exactas y Fadu con aprox 15 personas en casa uno. \n",
    "\n",
    "Los datos originales estan aca:\n",
    "\n",
    "https://github.com/IoniUTDT/Magia/tree/master/PilotoFacuFadu"
   ]
  },
  {
   "cell_type": "markdown",
   "metadata": {},
   "source": [
    "El proyecto Magia es un proyecto que busca medir como responde la gente frente a una situacion novedosa y dificil de explicar en terminos fisicos. La idea es hacer un \"truco\" (el del buzo en una botella de agua) donde no es obvio porque el globo sube o baja, disfrazado de algo \"sorprendente\" y pedirle a la gente que complete una encuesta sobre que cree que esta pasando. Buscamos ver cuanto inventa la gente y con que sesgo en funcion de su formacion profesional. \n",
    "\n",
    "Los datos de la encuesta son levantados automaticamente mediante el sotware sdaps que genera los formularios y despues mediante escaneo los procesa en bloque sin necesidad de pasar los datos a manos a una compu. Del programa se puede exportar un csv con los datos en bruto. Donde a cada entrada le corresponde una encuesta completada. "
   ]
  },
  {
   "cell_type": "code",
   "execution_count": 1,
   "metadata": {},
   "outputs": [],
   "source": [
    "%load_ext autoreload\n",
    "%autoreload 2\n",
    "import pandas\n",
    "import sys\n",
    "sys.path.append('./../')\n",
    "from funciones import interprete, interpretador\n",
    "from IPython.display import display"
   ]
  },
  {
   "cell_type": "markdown",
   "metadata": {},
   "source": [
    "En el siguiente bloque cargamos los datos y los procesamos para que sean mas legibles. Para eso hay que interpretar el csv donde viene guardados. El [csv](./DataValidada_PilotoKonex.csv) se genero automaticamente por el spdaps a partir de escanear el [archivo](./questionnaire.pdf), donde como se puede ver, hay secciones, preguntas y opciones multiples. Cada seccion esta indicada en el encabezado por un primer numero, cada preguntas por un segundo numero y cada opcion por un tercero unidos con un _ luego cada fila representa una entrada donde un 1 representa seleccionado en el caso de las opciones multiples o el valor seleccionado en caso de que se tratara de una escala. "
   ]
  },
  {
   "cell_type": "code",
   "execution_count": 2,
   "metadata": {},
   "outputs": [],
   "source": [
    "#data = data.rename(columns={'global_id': '0_0', 'questionnaire_id': '0_1'})\n"
   ]
  },
  {
   "cell_type": "code",
   "execution_count": 24,
   "metadata": {},
   "outputs": [],
   "source": [
    "data = pandas.read_csv('./Data_Exp2.csv')\n",
    "with open('Codigos.txt') as f:\n",
    "    lineas = f.readlines()\n",
    "\n",
    "grupos = []\n",
    "subGrupo = []\n",
    "\n",
    "for linea in lineas:\n",
    "    if linea == \"\\n\":\n",
    "        grupos.append(subGrupo)\n",
    "        subGrupo = []\n",
    "    else:\n",
    "        subGrupo.append(linea.split('\\n')[0])\n",
    "if not subGrupo == []:\n",
    "    grupos.append(subGrupo)\n",
    "\n",
    "for grupo in grupos:\n",
    "    encabezado = grupo[0]\n",
    "    inicio = grupo[1]\n",
    "    opciones = grupo[2::]\n",
    "    if len(opciones)>0:\n",
    "        titulos = [inicio+'_'+str(indice) for indice in range(len(opciones))]\n",
    "    else:\n",
    "        titulos = [grupo[1]]\n",
    "    mapeo = {x:y for x,y in zip(titulos,opciones)}\n",
    "    if len(titulos) > 1:\n",
    "        data[encabezado] = data[titulos].idxmax(axis=1)\n",
    "        data[encabezado].replace(mapeo, inplace=True)\n",
    "    else:\n",
    "        data[encabezado] = data[titulos]\n",
    "    data = data.drop(titulos, 1)"
   ]
  },
  {
   "cell_type": "code",
   "execution_count": 25,
   "metadata": {},
   "outputs": [
    {
     "name": "stdout",
     "output_type": "stream",
     "text": [
      "  questionnaire_id  global_id   Edad         Profesion     Estudios  \\\n",
      "0        ['31256']       1002  18-24    Mate/Comp/Sist   Secundaria   \n",
      "1        ['59406']       1002  18-24        Arq/Diseno     Primaria   \n",
      "2        ['55654']       1002  18-24        Ingenieria  Universidad   \n",
      "3        ['15766']       1002  25-40  Bio/Qui/Geo/Pale  Universidad   \n",
      "4        ['61935']       1002  18-24  Bio/Qui/Geo/Pale     Primaria   \n",
      "\n",
      "  Justifiacion1  Seguridad1 JustificacionSecundaria  RelevanciaMano  \\\n",
      "0         Calor           5              Magnetismo               3   \n",
      "1         Calor           5              Magnetismo               2   \n",
      "2    Magnetismo           0                   Calor               4   \n",
      "3       Presion           6                    Otra               1   \n",
      "4    Magnetismo           3                 Presion               4   \n",
      "\n",
      "  Justificacion2     ...      Religion  Reparar Programar Correr Acertijos  \\\n",
      "0          No Se     ...      No Gusta       Ni     Gusta     Ni   Encanta   \n",
      "1   Electricidad     ...            Ni       Ni        Ni  Gusta     Gusta   \n",
      "2     Magnetismo     ...          Odio  Encanta   Encanta  Gusta     Gusta   \n",
      "3        Presion     ...          Odio  Encanta     Gusta  Gusta     Gusta   \n",
      "4        Presion     ...      No Gusta       Ni        Ni  Gusta     Gusta   \n",
      "\n",
      "  Astrologia  Deportes  Debatir     Magia Electronica  \n",
      "0      Gusta     Gusta  Encanta     Gusta       Gusta  \n",
      "1      Gusta  No Gusta       Ni     Gusta          Ni  \n",
      "2   No Gusta  No Gusta    Gusta  No Gusta     Encanta  \n",
      "3         Ni     Gusta    Gusta     Gusta     Encanta  \n",
      "4      Gusta     Gusta    Gusta     Gusta          Ni  \n",
      "\n",
      "[5 rows x 30 columns]\n"
     ]
    }
   ],
   "source": [
    "print (data.head())"
   ]
  }
 ],
 "metadata": {
  "kernelspec": {
   "display_name": "Python 3",
   "language": "python",
   "name": "python3"
  },
  "language_info": {
   "codemirror_mode": {
    "name": "ipython",
    "version": 3
   },
   "file_extension": ".py",
   "mimetype": "text/x-python",
   "name": "python",
   "nbconvert_exporter": "python",
   "pygments_lexer": "ipython3",
   "version": "3.6.5"
  }
 },
 "nbformat": 4,
 "nbformat_minor": 2
}
