{
 "cells": [
  {
   "cell_type": "markdown",
   "metadata": {},
   "source": [
    "Procesamiento de datos del tercer fomulario. El que hice en la RAFA 2016\n",
    "\n",
    "Los datos originales estan aca:\n",
    "\n",
    "https://github.com/IoniUTDT/Magia/tree/master/FormularioAFA"
   ]
  },
  {
   "cell_type": "code",
   "execution_count": 2,
   "metadata": {},
   "outputs": [
    {
     "name": "stdout",
     "output_type": "stream",
     "text": [
      "The autoreload extension is already loaded. To reload it, use:\n",
      "  %reload_ext autoreload\n"
     ]
    }
   ],
   "source": [
    "%load_ext autoreload\n",
    "%autoreload 2\n",
    "from IPython.display import display\n",
    "import sys\n",
    "sys.path.append(\"..\")\n",
    "import leerCSV\n",
    "data = leerCSV.leerCSV ('./data_Micro.csv','Codigos.txt')\n",
    "data.to_csv('data.csv')"
   ]
  },
  {
   "cell_type": "code",
   "execution_count": 2,
   "metadata": {},
   "outputs": [],
   "source": [
    "'''\n",
    "Ejecutamos codigo complementario para terminar de ordenar la info leida del CSV\n",
    "En el codigo anterior tranformamos los indices genericos y las entradas dummy en algo mas razonable,\n",
    "pero alguna info queda mal agrupada.\n",
    "'''\n",
    "\n",
    "import numpy as np\n",
    "\n",
    "# Leemos el archivo con las indicaciones extras\n",
    "with open('Codigos2.txt') as f:\n",
    "\tlineas = f.readlines()\n",
    "\n",
    "\tgrupos = []\n",
    "\tsubGrupo = []\n",
    "\n",
    "\tfor linea in lineas:\n",
    "\t\tif linea == \"\\n\":\n",
    "\t\t\tgrupos.append(subGrupo)\n",
    "\t\t\tsubGrupo = []\n",
    "\t\telse:\n",
    "\t\t\tsubGrupo.append(linea.split('\\n')[0])\n",
    "\tif not subGrupo == []:\n",
    "\t\tgrupos.append(subGrupo)\n",
    "\n",
    "for subGrupo in grupos:\n",
    "    if subGrupo[1] == 'ReagruparEsPodria':\n",
    "        encabezados = subGrupo[3:]\n",
    "        columna = subGrupo[2]\n",
    "        data[columna] = \"Ns/Nc\"\n",
    "        for encabezado in encabezados:\n",
    "            data[columna] = [encabezado[:-1] if y == \"Es\" and x == \"Ns/Nc\" else x for x,y in zip(data[columna],data[encabezado])]\n",
    "        \n",
    "        \n",
    "#display(data.head())\n",
    "#display(data['2_2_1'])"
   ]
  },
  {
   "cell_type": "code",
   "execution_count": 6,
   "metadata": {},
   "outputs": [
    {
     "name": "stdout",
     "output_type": "stream",
     "text": [
      "['Calor1', 'Telequinesis1', 'Magnetismo1', 'Cosmica1', 'Cuantica1', 'Presion1', 'Aura1', 'Electricidad1', 'Poderes1', 'NoLoSe1']\n"
     ]
    },
    {
     "ename": "TypeError",
     "evalue": "value_counts() missing 1 required positional argument: 'values'",
     "output_type": "error",
     "traceback": [
      "\u001b[0;31m---------------------------------------------------------------------------\u001b[0m",
      "\u001b[0;31mTypeError\u001b[0m                                 Traceback (most recent call last)",
      "\u001b[0;32m<ipython-input-6-10660c71c03a>\u001b[0m in \u001b[0;36m<module>\u001b[0;34m()\u001b[0m\n\u001b[1;32m      1\u001b[0m \u001b[0;32mimport\u001b[0m \u001b[0mpandas\u001b[0m \u001b[0;32mas\u001b[0m \u001b[0mpd\u001b[0m\u001b[0;34m\u001b[0m\u001b[0m\n\u001b[1;32m      2\u001b[0m \u001b[0mprint\u001b[0m \u001b[0;34m(\u001b[0m\u001b[0mencabezados\u001b[0m\u001b[0;34m)\u001b[0m\u001b[0;34m\u001b[0m\u001b[0m\n\u001b[0;32m----> 3\u001b[0;31m \u001b[0mprint\u001b[0m \u001b[0;34m(\u001b[0m\u001b[0mdata\u001b[0m\u001b[0;34m[\u001b[0m\u001b[0mencabezados\u001b[0m\u001b[0;34m]\u001b[0m\u001b[0;34m.\u001b[0m\u001b[0mapply\u001b[0m\u001b[0;34m(\u001b[0m\u001b[0mpd\u001b[0m\u001b[0;34m.\u001b[0m\u001b[0mvalue_counts\u001b[0m\u001b[0;34m(\u001b[0m\u001b[0;34m)\u001b[0m\u001b[0;34m)\u001b[0m\u001b[0;34m)\u001b[0m\u001b[0;34m\u001b[0m\u001b[0m\n\u001b[0m\u001b[1;32m      4\u001b[0m \u001b[0;31m#data['Justificacion1']\u001b[0m\u001b[0;34m\u001b[0m\u001b[0;34m\u001b[0m\u001b[0m\n",
      "\u001b[0;31mTypeError\u001b[0m: value_counts() missing 1 required positional argument: 'values'"
     ]
    }
   ],
   "source": [
    "import pandas as pd\n",
    "print (encabezados)\n",
    "print (data[encabezados].apply(pd.value_counts()))\n",
    "#data['Justificacion1']"
   ]
  },
  {
   "cell_type": "code",
   "execution_count": null,
   "metadata": {},
   "outputs": [],
   "source": []
  }
 ],
 "metadata": {
  "kernelspec": {
   "display_name": "Python 3",
   "language": "python",
   "name": "python3"
  },
  "language_info": {
   "codemirror_mode": {
    "name": "ipython",
    "version": 3
   },
   "file_extension": ".py",
   "mimetype": "text/x-python",
   "name": "python",
   "nbconvert_exporter": "python",
   "pygments_lexer": "ipython3",
   "version": "3.6.5"
  }
 },
 "nbformat": 4,
 "nbformat_minor": 2
}
