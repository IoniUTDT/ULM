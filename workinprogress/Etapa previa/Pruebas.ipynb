{
 "cells": [
  {
   "cell_type": "code",
   "execution_count": 1,
   "metadata": {},
   "outputs": [],
   "source": [
    "import seaborn as sns\n",
    "import pandas as pd"
   ]
  },
  {
   "cell_type": "code",
   "execution_count": 2,
   "metadata": {},
   "outputs": [],
   "source": [
    "dataK = pd.read_csv('./Konex/data.csv')\n",
    "columnas = ['Formacion','Justificacion','Seguridad','Truco']\n",
    "categoricas = []\n",
    "N = len (columnas)"
   ]
  },
  {
   "cell_type": "code",
   "execution_count": 3,
   "metadata": {},
   "outputs": [],
   "source": [
    "for columna in columnas:\n",
    "    if not dataK[columna].dtype == 'int64':\n",
    "        categoricas.append(columna)\n",
    "        dataK[columna]=dataK[columna].astype('category')"
   ]
  },
  {
   "cell_type": "code",
   "execution_count": 4,
   "metadata": {},
   "outputs": [
    {
     "data": {
      "text/plain": [
       "Unnamed: 0             int64\n",
       "questionnaire_id      object\n",
       "global_id             object\n",
       "Formacion           category\n",
       "Justificacion       category\n",
       "Seguridad              int64\n",
       "Truco               category\n",
       "dtype: object"
      ]
     },
     "execution_count": 4,
     "metadata": {},
     "output_type": "execute_result"
    }
   ],
   "source": [
    "dataK.dtypes"
   ]
  },
  {
   "cell_type": "code",
   "execution_count": 11,
   "metadata": {},
   "outputs": [
    {
     "data": {
      "text/plain": [
       "0             Biomedicas\n",
       "1      Ciencias Sociales\n",
       "2                  NS/NC\n",
       "3                  Artes\n",
       "4                  Artes\n",
       "5      Ciencias Sociales\n",
       "6      Ciencias Sociales\n",
       "7             Psicologia\n",
       "8                Ninguna\n",
       "9      Ciencias Sociales\n",
       "10     Ciencias Sociales\n",
       "11            Economicas\n",
       "12               Ninguna\n",
       "13            Biomedicas\n",
       "14                Fisica\n",
       "15                 Artes\n",
       "16                  Otro\n",
       "17      Ciencias Exactas\n",
       "18                 Artes\n",
       "19                Fisica\n",
       "20                 NS/NC\n",
       "21               Derecho\n",
       "22                  Null\n",
       "23               Ninguna\n",
       "24      Ciencias Exactas\n",
       "25            Biomedicas\n",
       "26            Biomedicas\n",
       "27            Biomedicas\n",
       "28            Biomedicas\n",
       "29          Otra Carrera\n",
       "             ...        \n",
       "86                  Otro\n",
       "87            Economicas\n",
       "88            Economicas\n",
       "89            Economicas\n",
       "90     Ciencias Sociales\n",
       "91     Ciencias Sociales\n",
       "92            Biomedicas\n",
       "93     Ciencias Sociales\n",
       "94            Biomedicas\n",
       "95            Biomedicas\n",
       "96          Otra Carrera\n",
       "97      Ciencias Exactas\n",
       "98                  Otro\n",
       "99            Biomedicas\n",
       "100                 Null\n",
       "101                 Null\n",
       "102         Otra Carrera\n",
       "103           Economicas\n",
       "104    Ciencias Sociales\n",
       "105    Ciencias Sociales\n",
       "106                NS/NC\n",
       "107                 Otro\n",
       "108                NS/NC\n",
       "109                NS/NC\n",
       "110              Derecho\n",
       "111    Ciencias Sociales\n",
       "112           Economicas\n",
       "113     Ciencias Exactas\n",
       "114              Ninguna\n",
       "115         Otra Carrera\n",
       "Name: Formacion, Length: 116, dtype: category\n",
       "Categories (13, object): [Artes, Biomedicas, Ciencias Exactas, Ciencias Sociales, ..., Null, Otra Carrera, Otro, Psicologia]"
      ]
     },
     "execution_count": 11,
     "metadata": {},
     "output_type": "execute_result"
    }
   ],
   "source": [
    "dataK['Formacion']"
   ]
  },
  {
   "cell_type": "code",
   "execution_count": null,
   "metadata": {},
   "outputs": [],
   "source": []
  }
 ],
 "metadata": {
  "kernelspec": {
   "display_name": "Python 3",
   "language": "python",
   "name": "python3"
  },
  "language_info": {
   "codemirror_mode": {
    "name": "ipython",
    "version": 3
   },
   "file_extension": ".py",
   "mimetype": "text/x-python",
   "name": "python",
   "nbconvert_exporter": "python",
   "pygments_lexer": "ipython3",
   "version": "3.6.6"
  }
 },
 "nbformat": 4,
 "nbformat_minor": 2
}
