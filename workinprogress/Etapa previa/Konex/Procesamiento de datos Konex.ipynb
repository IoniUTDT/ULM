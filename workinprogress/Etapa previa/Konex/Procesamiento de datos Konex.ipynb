{
 "cells": [
  {
   "cell_type": "markdown",
   "metadata": {},
   "source": [
    "El proyecto Magia es un proyecto que busca medir como responde la gente frente a una situacion novedosa y dificil de explicar en terminos fisicos. La idea es hacer un \"truco\" (el del buzo en una botella de agua) donde no es obvio porque el globo sube o baja, disfrazado de algo \"sorprendente\" y pedirle a la gente que complete una encuesta sobre que cree que esta pasando. Buscamos ver cuanto inventa la gente y con que sesgo en funcion de su formacion profesional. \n",
    "\n",
    "Los datos de la encuesta son levantados automaticamente mediante el sotware sdaps que genera los formularios y despues mediante escaneo los procesa en bloque sin necesidad de pasar los datos a manos a una compu. Del programa se puede exportar un csv con los datos en bruto. Donde a cada entrada le corresponde una encuesta completada. "
   ]
  },
  {
   "cell_type": "code",
   "execution_count": 4,
   "metadata": {},
   "outputs": [],
   "source": [
    "%load_ext autoreload\n",
    "%autoreload 2\n",
    "import pandas\n",
    "import sys\n",
    "sys.path.append('./../')\n",
    "from funciones import interprete, interpretador\n",
    "from IPython.display import display"
   ]
  },
  {
   "cell_type": "markdown",
   "metadata": {},
   "source": [
    "En el siguiente bloque cargamos los datos y los procesamos para que sean mas legibles. Para eso hay que interpretar el csv donde viene guardados. El [csv](./DataValidada_PilotoKonex.csv) se genero automaticamente por el spdaps a partir de escanear el [archivo](./questionnaire.pdf), donde como se puede ver, hay secciones, preguntas y opciones multiples. Cada seccion esta indicada en el encabezado por un primer numero, cada preguntas por un segundo numero y cada opcion por un tercero unidos con un _ luego cada fila representa una entrada donde un 1 representa seleccionado en el caso de las opciones multiples o el valor seleccionado en caso de que se tratara de una escala. "
   ]
  },
  {
   "cell_type": "code",
   "execution_count": 5,
   "metadata": {},
   "outputs": [],
   "source": [
    "data = pandas.read_csv('./DataValidada_PilotoKonex.csv')\n",
    "inter = interprete('Interprete.txt')\n",
    "data = data.rename(columns={'global_id': '0_1', 'questionnaire_id': '0_2'})\n",
    "#ata.drop(data.columns[[0, 1,]], axis=1, inplace=True) # Son columnas que no tienen informacion valida\n",
    "data = interpretador (data,inter)\n"
   ]
  },
  {
   "cell_type": "code",
   "execution_count": 6,
   "metadata": {},
   "outputs": [
    {
     "data": {
      "text/html": [
       "<div>\n",
       "<style scoped>\n",
       "    .dataframe tbody tr th:only-of-type {\n",
       "        vertical-align: middle;\n",
       "    }\n",
       "\n",
       "    .dataframe tbody tr th {\n",
       "        vertical-align: top;\n",
       "    }\n",
       "\n",
       "    .dataframe thead th {\n",
       "        text-align: right;\n",
       "    }\n",
       "</style>\n",
       "<table border=\"1\" class=\"dataframe\">\n",
       "  <thead>\n",
       "    <tr style=\"text-align: right;\">\n",
       "      <th></th>\n",
       "      <th>questionnaire_id</th>\n",
       "      <th>global_id</th>\n",
       "      <th>Nivel_seguridad</th>\n",
       "      <th>Formacion</th>\n",
       "      <th>Justificacion</th>\n",
       "      <th>Truco</th>\n",
       "    </tr>\n",
       "  </thead>\n",
       "  <tbody>\n",
       "    <tr>\n",
       "      <th>0</th>\n",
       "      <td>None</td>\n",
       "      <td>None</td>\n",
       "      <td>4</td>\n",
       "      <td>[Biomedicas]</td>\n",
       "      <td>[Telequinesis]</td>\n",
       "      <td>[Si]</td>\n",
       "    </tr>\n",
       "    <tr>\n",
       "      <th>1</th>\n",
       "      <td>None</td>\n",
       "      <td>None</td>\n",
       "      <td>10</td>\n",
       "      <td>[Ciencias Sociales]</td>\n",
       "      <td>[No lo se]</td>\n",
       "      <td>[No se]</td>\n",
       "    </tr>\n",
       "    <tr>\n",
       "      <th>2</th>\n",
       "      <td>None</td>\n",
       "      <td>None</td>\n",
       "      <td>0</td>\n",
       "      <td>[]</td>\n",
       "      <td>[]</td>\n",
       "      <td>[]</td>\n",
       "    </tr>\n",
       "    <tr>\n",
       "      <th>3</th>\n",
       "      <td>None</td>\n",
       "      <td>None</td>\n",
       "      <td>7</td>\n",
       "      <td>[Artes]</td>\n",
       "      <td>[Magnetismo]</td>\n",
       "      <td>[No]</td>\n",
       "    </tr>\n",
       "    <tr>\n",
       "      <th>4</th>\n",
       "      <td>None</td>\n",
       "      <td>None</td>\n",
       "      <td>8</td>\n",
       "      <td>[Artes]</td>\n",
       "      <td>[Presion]</td>\n",
       "      <td>[No se]</td>\n",
       "    </tr>\n",
       "  </tbody>\n",
       "</table>\n",
       "</div>"
      ],
      "text/plain": [
       "  questionnaire_id global_id  Nivel_seguridad            Formacion  \\\n",
       "0             None      None                4         [Biomedicas]   \n",
       "1             None      None               10  [Ciencias Sociales]   \n",
       "2             None      None                0                   []   \n",
       "3             None      None                7              [Artes]   \n",
       "4             None      None                8              [Artes]   \n",
       "\n",
       "    Justificacion    Truco  \n",
       "0  [Telequinesis]     [Si]  \n",
       "1      [No lo se]  [No se]  \n",
       "2              []       []  \n",
       "3    [Magnetismo]     [No]  \n",
       "4       [Presion]  [No se]  "
      ]
     },
     "metadata": {},
     "output_type": "display_data"
    },
    {
     "data": {
      "text/plain": [
       "{1: {'Titulo': 'IDs',\n",
       "  1: {'Pregunta': 'global_id'},\n",
       "  2: {'Pregunta': 'questionnaire_id'}},\n",
       " 2: {'Titulo': 'Formacion',\n",
       "  1: {'Pregunta': 'Formacion',\n",
       "   1: {'Opcion': 'Artes'},\n",
       "   2: {'Opcion': 'Biomedicas'},\n",
       "   3: {'Opcion': 'Economicas'},\n",
       "   4: {'Opcion': 'Ciencias Exactas'},\n",
       "   5: {'Opcion': 'Fisica'},\n",
       "   6: {'Opcion': 'Ciencias Sociales'},\n",
       "   7: {'Opcion': 'Derecho'},\n",
       "   8: {'Opcion': 'Otra Carrera'},\n",
       "   9: {'Opcion': 'Psicologia'},\n",
       "   10: {'Opcion': 'Ninguna'},\n",
       "   11: {'Opcion': 'Otro'}}},\n",
       " 3: {'Titulo': 'Ver',\n",
       "  1: {'Pregunta': 'Justificacion',\n",
       "   1: {'Opcion': 'Calor'},\n",
       "   2: {'Opcion': 'Telequinesis'},\n",
       "   3: {'Opcion': 'Magnetismo'},\n",
       "   4: {'Opcion': 'Energia Cosmica'},\n",
       "   5: {'Opcion': 'Presion'},\n",
       "   6: {'Opcion': 'Fisica Cuantica'},\n",
       "   7: {'Opcion': 'Electricidad'},\n",
       "   8: {'Opcion': 'No lo se'}}},\n",
       " 4: {'Titulo': 'Justificacion',\n",
       "  1: {'Pregunta': 'Nivel_seguridad'},\n",
       "  2: {'Pregunta': 'Truco',\n",
       "   1: {'Opcion': 'Si'},\n",
       "   2: {'Opcion': 'No'},\n",
       "   3: {'Opcion': 'No se'}}}}"
      ]
     },
     "execution_count": 6,
     "metadata": {},
     "output_type": "execute_result"
    }
   ],
   "source": [
    "%matplotlib inline\n",
    "display (data.head())\n",
    "inter"
   ]
  }
 ],
 "metadata": {
  "kernelspec": {
   "display_name": "Python 3",
   "language": "python",
   "name": "python3"
  },
  "language_info": {
   "codemirror_mode": {
    "name": "ipython",
    "version": 3
   },
   "file_extension": ".py",
   "mimetype": "text/x-python",
   "name": "python",
   "nbconvert_exporter": "python",
   "pygments_lexer": "ipython3",
   "version": "3.6.4"
  }
 },
 "nbformat": 4,
 "nbformat_minor": 2
}
