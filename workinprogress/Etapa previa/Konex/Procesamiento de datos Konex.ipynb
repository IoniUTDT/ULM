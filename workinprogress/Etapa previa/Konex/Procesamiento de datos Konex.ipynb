{
 "cells": [
  {
   "cell_type": "markdown",
   "metadata": {},
   "source": [
    "El proyecto Magia es un proyecto que busca medir como responde la gente frente a una situacion novedosa y dificil de explicar en terminos fisicos. La idea es hacer un \"truco\" (el del buzo en una botella de agua) donde no es obvio porque el globo sube o baja, disfrazado de algo \"sorprendente\" y pedirle a la gente que complete una encuesta sobre que cree que esta pasando. Buscamos ver cuanto inventa la gente y con que sesgo en funcion de su formacion profesional. \n",
    "\n",
    "Los datos de la encuesta son levantados automaticamente mediante el sotware sdaps que genera los formularios y despues mediante escaneo los procesa en bloque sin necesidad de pasar los datos a manos a una compu. Del programa se puede exportar un csv con los datos en bruto. Donde a cada entrada le corresponde una encuesta completada. "
   ]
  },
  {
   "cell_type": "code",
   "execution_count": 23,
   "metadata": {},
   "outputs": [],
   "source": [
    "import pandas\n",
    "from IPython.display import display"
   ]
  },
  {
   "cell_type": "markdown",
   "metadata": {},
   "source": [
    "En el siguiente bloque cargamos los datos y los procesamos para que sean mas legibles. Para eso hay que interpretar el csv donde viene guardados. El [csv](./DataValidada_PilotoKonex.csv) se genero automaticamente por el spdaps a partir de escanear el [archivo](./questionnaire.pdf), donde como se puede ver, hay secciones, preguntas y opciones multiples. Cada seccion esta indicada en el encabezado por un primer numero, cada preguntas por un segundo numero y cada opcion por un tercero unidos con un _ luego cada fila representa una entrada donde un 1 representa seleccionado en el caso de las opciones multiples o el valor seleccionado en caso de que se tratara de una escala. "
   ]
  },
  {
   "cell_type": "code",
   "execution_count": 157,
   "metadata": {},
   "outputs": [],
   "source": [
    "data = pandas.read_csv('./DataValidada_PilotoKonex.csv')\n",
    "inter = interprete('Interprete.txt')\n",
    "data.drop(data.columns[[0, 1,]], axis=1, inplace=True) # Son columnas que no tienen informacion valida\n",
    "\n",
    "for columna in data.columns:\n",
    "    indices = columna.split('_')\n",
    "    indices = [int(valor) for valor in indices]\n",
    "    if len (indices) == 2:\n",
    "        old = columna\n",
    "        new = inter[indices[0]][indices[1]]['Pregunta']\n",
    "        data.rename(columns={columna:inter[indices[0]][indices[1]]['Pregunta']}, inplace=True)\n",
    "    if len (indices) == 3:\n",
    "        pregunta = inter[indices[0]][indices[1]]['Pregunta']\n",
    "        if indices[2] == 0:\n",
    "            data[pregunta] = [[]] * len(data)\n",
    "        opcion = inter[indices[0]][indices[1]][indices[2]+1]['Opcion']\n",
    "        data[pregunta] = [x if y == 0 else x + [opcion] for x,y in zip(data[pregunta],data[columna])]  \n",
    "        data.drop([columna], axis=1, inplace=True)"
   ]
  },
  {
   "cell_type": "code",
   "execution_count": 156,
   "metadata": {},
   "outputs": [],
   "source": [
    "data.drop(['1_1_0'], axis=1, inplace=True)"
   ]
  },
  {
   "cell_type": "code",
   "execution_count": 158,
   "metadata": {},
   "outputs": [
    {
     "data": {
      "text/html": [
       "<div>\n",
       "<style scoped>\n",
       "    .dataframe tbody tr th:only-of-type {\n",
       "        vertical-align: middle;\n",
       "    }\n",
       "\n",
       "    .dataframe tbody tr th {\n",
       "        vertical-align: top;\n",
       "    }\n",
       "\n",
       "    .dataframe thead th {\n",
       "        text-align: right;\n",
       "    }\n",
       "</style>\n",
       "<table border=\"1\" class=\"dataframe\">\n",
       "  <thead>\n",
       "    <tr style=\"text-align: right;\">\n",
       "      <th></th>\n",
       "      <th>Nivel_seguridad</th>\n",
       "      <th>Formacion</th>\n",
       "      <th>Justificacion</th>\n",
       "      <th>Truco</th>\n",
       "    </tr>\n",
       "  </thead>\n",
       "  <tbody>\n",
       "    <tr>\n",
       "      <th>0</th>\n",
       "      <td>4</td>\n",
       "      <td>[Biomedicas]</td>\n",
       "      <td>[Telequinesis]</td>\n",
       "      <td>[Si]</td>\n",
       "    </tr>\n",
       "    <tr>\n",
       "      <th>1</th>\n",
       "      <td>10</td>\n",
       "      <td>[Ciencias Sociales]</td>\n",
       "      <td>[No lo se]</td>\n",
       "      <td>[No se]</td>\n",
       "    </tr>\n",
       "    <tr>\n",
       "      <th>2</th>\n",
       "      <td>0</td>\n",
       "      <td>[]</td>\n",
       "      <td>[]</td>\n",
       "      <td>[]</td>\n",
       "    </tr>\n",
       "    <tr>\n",
       "      <th>3</th>\n",
       "      <td>7</td>\n",
       "      <td>[Artes]</td>\n",
       "      <td>[Magnetismo]</td>\n",
       "      <td>[No]</td>\n",
       "    </tr>\n",
       "    <tr>\n",
       "      <th>4</th>\n",
       "      <td>8</td>\n",
       "      <td>[Artes]</td>\n",
       "      <td>[Presion]</td>\n",
       "      <td>[No se]</td>\n",
       "    </tr>\n",
       "  </tbody>\n",
       "</table>\n",
       "</div>"
      ],
      "text/plain": [
       "   Nivel_seguridad            Formacion   Justificacion    Truco\n",
       "0                4         [Biomedicas]  [Telequinesis]     [Si]\n",
       "1               10  [Ciencias Sociales]      [No lo se]  [No se]\n",
       "2                0                   []              []       []\n",
       "3                7              [Artes]    [Magnetismo]     [No]\n",
       "4                8              [Artes]       [Presion]  [No se]"
      ]
     },
     "execution_count": 158,
     "metadata": {},
     "output_type": "execute_result"
    }
   ],
   "source": [
    "data.head()"
   ]
  },
  {
   "cell_type": "code",
   "execution_count": 91,
   "metadata": {},
   "outputs": [
    {
     "data": {
      "text/plain": [
       "Index(['1_1_0', '1_1_1', '1_1_2', '1_1_3', '1_1_4', '1_1_5', '1_1_6', '1_1_7',\n",
       "       '1_1_8', '1_1_9', '1_1_10', '2_1_0', '2_1_1', '2_1_2', '2_1_3', '2_1_4',\n",
       "       '2_1_5', '2_1_6', '2_1_7', '3_1', '3_2_0', '3_2_1', '3_2_2'],\n",
       "      dtype='object')"
      ]
     },
     "execution_count": 91,
     "metadata": {},
     "output_type": "execute_result"
    }
   ],
   "source": [
    "data.columns"
   ]
  },
  {
   "cell_type": "code",
   "execution_count": 69,
   "metadata": {},
   "outputs": [],
   "source": [
    "## Esta funcion importa un archivo donde en cada linea hay una seccion/pregunta/opcion \n",
    "## usando un nivel de identacion diferente para cada categoria y a partir de eso crea un dict\n",
    "## donde usando los indices de seccion - pregunta - opcion se puede saber los textos correspondientes\n",
    "## Esto es porque en los archivo creados y escaneados usando sdps guarda las respuestas como una variable \n",
    "## con una etiqueta antes que indica el numero de seccion - pregunta - opcion pero no guarda los textos correspondientes\n",
    "def interprete (filename):\n",
    "    \n",
    "    import re\n",
    "\n",
    "    secciones = 0\n",
    "    preguntas = 0\n",
    "    opciones = 0\n",
    "    nivelActual = 0\n",
    "    interprete = {}\n",
    "\n",
    "    with open(filename) as f:\n",
    "        lineas = f.readlines()\n",
    "    for linea in lineas:\n",
    "        tabs = len(re.findall(\"\\t\", linea))\n",
    "        if tabs < nivelActual:\n",
    "            if tabs == 1:\n",
    "                opciones = 0\n",
    "            if tabs == 0:\n",
    "                preguntas = 0\n",
    "                opciones = 0\n",
    "        if tabs == 0:\n",
    "            seccion = {}\n",
    "            secciones = secciones + 1\n",
    "            seccion['Titulo'] = linea[:-1]\n",
    "            interprete[secciones] = seccion\n",
    "        if tabs == 1:\n",
    "            nivelActual = 1\n",
    "            pregunta = {}\n",
    "            preguntas += 1\n",
    "            pregunta['Pregunta'] = linea[1:-1]\n",
    "            interprete[secciones][preguntas] = pregunta\n",
    "        if tabs == 2:\n",
    "            nivelActual = 2\n",
    "            opcion = {}\n",
    "            opciones += 1\n",
    "            opcion['Opcion'] = linea[2:-1]\n",
    "            interprete[secciones][preguntas][opciones] = opcion\n",
    "            \n",
    "    return interprete"
   ]
  },
  {
   "cell_type": "code",
   "execution_count": 20,
   "metadata": {
    "collapsed": true
   },
   "outputs": [
    {
     "data": {
      "text/plain": [
       "{1: {'Indice': 1,\n",
       "  'Preguntas': {1: {'Indice': 1,\n",
       "    'Pregunta': 'Formacion',\n",
       "    'Opciones': {1: {'Indice': 1, 'Opcion': 'Artes'},\n",
       "     2: {'Indice': 2, 'Opcion': 'Biomedicas'},\n",
       "     3: {'Indice': 3, 'Opcion': 'Economicas'},\n",
       "     4: {'Indice': 4, 'Opcion': 'Ciencias Exactas'},\n",
       "     5: {'Indice': 5, 'Opcion': 'Fisica'},\n",
       "     6: {'Indice': 6, 'Opcion': 'Ciencias Sociales'},\n",
       "     7: {'Indice': 7, 'Opcion': 'Derecho'},\n",
       "     8: {'Indice': 8, 'Opcion': 'Otra Carrera'},\n",
       "     9: {'Indice': 9, 'Opcion': 'Psicologia'},\n",
       "     10: {'Indice': 10, 'Opcion': 'Ninguna'},\n",
       "     11: {'Indice': 11, 'Opcion': 'Otro'}}}},\n",
       "  'Titulo': 'Formacion'},\n",
       " 2: {'Indice': 2,\n",
       "  'Preguntas': {1: {'Indice': 1,\n",
       "    'Pregunta': 'Tiene que ver con...',\n",
       "    'Opciones': {1: {'Indice': 1, 'Opcion': 'Calor'},\n",
       "     2: {'Indice': 2, 'Opcion': 'Telequinesis'},\n",
       "     3: {'Indice': 3, 'Opcion': 'Magnetismo'},\n",
       "     4: {'Indice': 4, 'Opcion': 'Energia Cosmica'},\n",
       "     5: {'Indice': 5, 'Opcion': 'Presion'},\n",
       "     6: {'Indice': 6, 'Opcion': 'Fisica Cuantica'},\n",
       "     7: {'Indice': 7, 'Opcion': 'Electricidad'},\n",
       "     8: {'Indice': 8, 'Opcion': 'No lo se'}}}},\n",
       "  'Titulo': 'Ver'},\n",
       " 3: {'Indice': 3,\n",
       "  'Preguntas': {1: {'Indice': 1,\n",
       "    'Pregunta': 'Cuan seguro estas',\n",
       "    'Opciones': {}},\n",
       "   2: {'Indice': 2,\n",
       "    'Pregunta': 'Hay truco',\n",
       "    'Opciones': {1: {'Indice': 1, 'Opcion': 'Si'},\n",
       "     2: {'Indice': 2, 'Opcion': 'No'},\n",
       "     3: {'Indice': 3, 'Opcion': 'No se'}}}},\n",
       "  'Titulo': 'Justificacion'}}"
      ]
     },
     "metadata": {},
     "output_type": "display_data"
    }
   ],
   "source": [
    "display (interprete)"
   ]
  }
 ],
 "metadata": {
  "kernelspec": {
   "display_name": "Python 3",
   "language": "python",
   "name": "python3"
  },
  "language_info": {
   "codemirror_mode": {
    "name": "ipython",
    "version": 3
   },
   "file_extension": ".py",
   "mimetype": "text/x-python",
   "name": "python",
   "nbconvert_exporter": "python",
   "pygments_lexer": "ipython3",
   "version": "3.6.4"
  }
 },
 "nbformat": 4,
 "nbformat_minor": 1
}
