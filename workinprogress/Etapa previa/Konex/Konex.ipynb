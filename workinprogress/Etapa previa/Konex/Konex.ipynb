{
 "cells": [
  {
   "cell_type": "markdown",
   "metadata": {},
   "source": [
    "Procesamiento de datos del primer fomulario. El que hice en el KONEX\n",
    "\n",
    "Los datos originales estan aca:\n",
    "\n",
    "https://github.com/IoniUTDT/Magia/tree/master/Resultados"
   ]
  },
  {
   "cell_type": "code",
   "execution_count": 1,
   "metadata": {},
   "outputs": [],
   "source": [
    "%load_ext autoreload\n",
    "%autoreload 2\n",
    "import pandas\n",
    "from IPython.display import display\n",
    "import sys\n",
    "sys.path.append(\"..\")\n",
    "import leerCSV\n",
    "data = leerCSV.leerCSV ('./DataValidada_PilotoKonex.csv','Codigos.txt')\n"
   ]
  },
  {
   "cell_type": "code",
   "execution_count": 3,
   "metadata": {},
   "outputs": [
    {
     "data": {
      "text/html": [
       "<div>\n",
       "<style scoped>\n",
       "    .dataframe tbody tr th:only-of-type {\n",
       "        vertical-align: middle;\n",
       "    }\n",
       "\n",
       "    .dataframe tbody tr th {\n",
       "        vertical-align: top;\n",
       "    }\n",
       "\n",
       "    .dataframe thead th {\n",
       "        text-align: right;\n",
       "    }\n",
       "</style>\n",
       "<table border=\"1\" class=\"dataframe\">\n",
       "  <thead>\n",
       "    <tr style=\"text-align: right;\">\n",
       "      <th></th>\n",
       "      <th>questionnaire_id</th>\n",
       "      <th>global_id</th>\n",
       "      <th>Formacion</th>\n",
       "      <th>Justificacion</th>\n",
       "      <th>Seguridad</th>\n",
       "      <th>Truco</th>\n",
       "    </tr>\n",
       "  </thead>\n",
       "  <tbody>\n",
       "    <tr>\n",
       "      <th>0</th>\n",
       "      <td>None</td>\n",
       "      <td>None</td>\n",
       "      <td>Biomedicas</td>\n",
       "      <td>Telequinesis</td>\n",
       "      <td>4</td>\n",
       "      <td>Si</td>\n",
       "    </tr>\n",
       "    <tr>\n",
       "      <th>1</th>\n",
       "      <td>None</td>\n",
       "      <td>None</td>\n",
       "      <td>Ciencias Sociales</td>\n",
       "      <td>No lo se</td>\n",
       "      <td>10</td>\n",
       "      <td>No se</td>\n",
       "    </tr>\n",
       "    <tr>\n",
       "      <th>2</th>\n",
       "      <td>None</td>\n",
       "      <td>None</td>\n",
       "      <td>NS/NC</td>\n",
       "      <td>NS/NC</td>\n",
       "      <td>0</td>\n",
       "      <td>NS/NC</td>\n",
       "    </tr>\n",
       "    <tr>\n",
       "      <th>3</th>\n",
       "      <td>None</td>\n",
       "      <td>None</td>\n",
       "      <td>Artes</td>\n",
       "      <td>Magnetismo</td>\n",
       "      <td>7</td>\n",
       "      <td>No</td>\n",
       "    </tr>\n",
       "    <tr>\n",
       "      <th>4</th>\n",
       "      <td>None</td>\n",
       "      <td>None</td>\n",
       "      <td>Artes</td>\n",
       "      <td>Presion</td>\n",
       "      <td>8</td>\n",
       "      <td>No se</td>\n",
       "    </tr>\n",
       "  </tbody>\n",
       "</table>\n",
       "</div>"
      ],
      "text/plain": [
       "  questionnaire_id global_id          Formacion Justificacion  Seguridad  \\\n",
       "0             None      None         Biomedicas  Telequinesis          4   \n",
       "1             None      None  Ciencias Sociales      No lo se         10   \n",
       "2             None      None              NS/NC         NS/NC          0   \n",
       "3             None      None              Artes    Magnetismo          7   \n",
       "4             None      None              Artes       Presion          8   \n",
       "\n",
       "   Truco  \n",
       "0     Si  \n",
       "1  No se  \n",
       "2  NS/NC  \n",
       "3     No  \n",
       "4  No se  "
      ]
     },
     "execution_count": 3,
     "metadata": {},
     "output_type": "execute_result"
    }
   ],
   "source": [
    "data.head()"
   ]
  }
 ],
 "metadata": {
  "kernelspec": {
   "display_name": "Python 3",
   "language": "python",
   "name": "python3"
  },
  "language_info": {
   "codemirror_mode": {
    "name": "ipython",
    "version": 3
   },
   "file_extension": ".py",
   "mimetype": "text/x-python",
   "name": "python",
   "nbconvert_exporter": "python",
   "pygments_lexer": "ipython3",
   "version": "3.6.5"
  }
 },
 "nbformat": 4,
 "nbformat_minor": 2
}
