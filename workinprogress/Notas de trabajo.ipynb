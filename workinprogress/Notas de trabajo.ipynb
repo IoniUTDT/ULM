{
 "cells": [
  {
   "cell_type": "markdown",
   "metadata": {},
   "source": [
    "# 26 de Marzo de 2018\n",
    "\n",
    "Hoy me instale en 'Un Lugar' y me puse a configurar el soft para recontinuar el trabajo interrumpido a fines de 2016 donde queria estudiar como la gente inventa teorias utilizando como pretexto el truco de la botellita.\n",
    "\n",
    "Arme una carpeta nueva en '/home/ionatan/UL/Proyecto Magia' del disco clonado de mi compu de Di Tella. La idea es recuperar solo las cosas utiles de todo lo que ya tenia (hay un lio de copias y copias de cosas) e ir ordenandolo en la carpeta nueva evitando tener mil versiones de todo y aprendiendo a documentar mejor. \n",
    "\n",
    "Dentro de la carpeta cree una carpeta 'Online' que es clon de in git subido a github (cuenta IoniUTDT o ionatanlist@gmail.com) que se llama ULM (de Un Lugar Magia). La idea es mantener en dicha carpeta una copia de todo lo importante sin almacenar datos provisorios, redundantes o a medio procesar para evitar que el git se llene de basura. \n",
    "\n",
    "Dentro de esa capeta cree una que se llama 'workinprogress' donde esta alojado este notebook y la idea es ahi ir manteniendo un buen log de lo que hago junto al codigo que procese los datos y los datos ya procesados o en bruto mantenerlos en carpetas aparte.\n"
   ]
  },
  {
   "cell_type": "markdown",
   "metadata": {},
   "source": [
    "# 27 de Marzo de 2018\n",
    "\n",
    "Hoy pase de nuevo por el labs. Estoy todavia puliendo cosas de forma e inatalando software. Decidi evitar usatr HTML en estas notas y estoy viendo como armar cosas que se vean bien usando solo Markdown. Tambien me encontre con que no tenia instalado el conda en la compu.\n",
    "\n",
    "19:37\n",
    "\n",
    "Instale el conda y estuve redactando parte del estado actual del proyecto la idea es tener un buen resumen prolijo y capaza de ser mostrado a otros del estado actual de la situacion como para poder ir charlando futuras implementaciones. Todavia no empece a buscar los datos viejos, solo escribi cosas. \n",
    "\n",
    "\n",
    "\n",
    "\n"
   ]
  }
 ],
 "metadata": {
  "kernelspec": {
   "display_name": "Python 3",
   "language": "python",
   "name": "python3"
  },
  "language_info": {
   "codemirror_mode": {
    "name": "ipython",
    "version": 3
   },
   "file_extension": ".py",
   "mimetype": "text/x-python",
   "name": "python",
   "nbconvert_exporter": "python",
   "pygments_lexer": "ipython3",
   "version": "3.4.3"
  }
 },
 "nbformat": 4,
 "nbformat_minor": 0
}
