{
 "cells": [
  {
   "cell_type": "markdown",
   "metadata": {},
   "source": [
    "<center>\n",
    "<b> 26 de Marzo de 2018 </b>\n",
    "</center>\n",
    "\n",
    "<p>\n",
    "Hoy me instale en 'Un Lugar' y me puse a configurar el soft para recontinuar el trabajo interrumpido a fines de 2016 donde queria estudiar como la gente inventa teorias utilizando como pretexto el truco de la botellita.\n",
    "</p>\n",
    "<p>\n",
    "Arme una carpeta nueva en '/home/ionatan/UL/Proyecto Magia' del disco clonado de mi compu de Di Tella. La idea es recuperar solo las cosas utiles de todo lo que ya tenia (hay un lio de copias y copias de cosas) e ir ordenandolo en la carpeta nueva evitando tener mil versiones de todo y aprendiendo a documentar mejor. \n",
    "</p>\n",
    "<p>\n",
    "Dentro de la carpeta cree una carpeta 'Online' que es clon de in git subido a github (cuenta IoniUTDT o ionatanlist@gmail.com) que se llama ULM (de Un Lugar Magia). La idea es mantener en dicha carpeta una copia de todo lo importante sin almacenar datos provisorios, redundantes o a medio procesar para evitar que el git se llene de basura. \n",
    "</p>\n",
    "<p>\n",
    "Dentro de esa capeta cree una que se llama 'workinprogress' donde esta alojado este notebook y la idea es ahi ir manteniendo un buen log de lo que hago junto al codigo que procese los datos y los datos ya procesados o en bruto mantenerlos en carpetas aparte.\n",
    "</p>"
   ]
  }
 ],
 "metadata": {
  "kernelspec": {
   "display_name": "Python 3",
   "language": "python",
   "name": "python3"
  },
  "language_info": {
   "codemirror_mode": {
    "name": "ipython",
    "version": 3
   },
   "file_extension": ".py",
   "mimetype": "text/x-python",
   "name": "python",
   "nbconvert_exporter": "python",
   "pygments_lexer": "ipython3",
   "version": "3.4.3"
  }
 },
 "nbformat": 4,
 "nbformat_minor": 0
}
