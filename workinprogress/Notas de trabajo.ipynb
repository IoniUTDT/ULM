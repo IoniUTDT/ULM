{
 "cells": [
  {
   "cell_type": "markdown",
   "metadata": {},
   "source": [
    "# 26 de Marzo de 2018\n",
    "\n",
    "Hoy me instale en 'Un Lugar' y me puse a configurar el soft para recontinuar el trabajo interrumpido a fines de 2016 donde queria estudiar como la gente inventa teorias utilizando como pretexto el truco de la botellita.\n",
    "\n",
    "Arme una carpeta nueva en '/home/ionatan/UL/Proyecto Magia' del disco clonado de mi compu de Di Tella. La idea es recuperar solo las cosas utiles de todo lo que ya tenia (hay un lio de copias y copias de cosas) e ir ordenandolo en la carpeta nueva evitando tener mil versiones de todo y aprendiendo a documentar mejor. \n",
    "\n",
    "Dentro de la carpeta cree una carpeta 'Online' que es clon de in git subido a github (cuenta IoniUTDT o ionatanlist@gmail.com) que se llama ULM (de Un Lugar Magia). La idea es mantener en dicha carpeta una copia de todo lo importante sin almacenar datos provisorios, redundantes o a medio procesar para evitar que el git se llene de basura. \n",
    "\n",
    "Dentro de esa capeta cree una que se llama 'workinprogress' donde esta alojado este notebook y la idea es ahi ir manteniendo un buen log de lo que hago junto al codigo que procese los datos y los datos ya procesados o en bruto mantenerlos en carpetas aparte.\n"
   ]
  },
  {
   "cell_type": "markdown",
   "metadata": {},
   "source": [
    "# 27 de Marzo de 2018\n",
    "\n",
    "Hoy pase de nuevo por el labs. Estoy todavia puliendo cosas de forma e inatalando software. Decidi evitar usatr HTML en estas notas y estoy viendo como armar cosas que se vean bien usando solo Markdown. Tambien me encontre con que no tenia instalado el conda en la compu.\n",
    "\n",
    "19:37\n",
    "\n",
    "Instale el conda y estuve redactando parte del estado actual del proyecto la idea es tener un buen resumen prolijo y capaza de ser mostrado a otros del estado actual de la situacion como para poder ir charlando futuras implementaciones. Todavia no empece a buscar los datos viejos, solo escribi cosas. \n",
    "\n",
    "\n",
    "\n",
    "\n"
   ]
  },
  {
   "cell_type": "markdown",
   "metadata": {},
   "source": [
    "# 16 de Abril #\n",
    "\n",
    "9:55\n",
    "\n",
    "Tuve una semana de feriado y una semana poca productiva porque lo dedique a otras cosas. Hoy me gustaria retomar la recoleccion de encuestas y datos viejos\n",
    "\n",
    "10:45\n",
    "\n",
    "Despues de un rato de buscar creo que encontre los datos a medio procesar del experimento del Konex y de las dos pruebas, la de FADU/Exactas y la de la AFA. Voy a empezar por reproducir el procesamiento (a partir de los csv) del experimento Konex\n",
    "\n",
    "15:20\n",
    "\n",
    "Acabo de llegar a la ofi (antes estaba tomando examen). Objetivo del resto del dia: tener los datos Konex lindos y ordenados, me costo mucho entender y rastrear lo que habia hecho pero llegue al csv y de ahi en adelante creo que podria reproducirlo bien.\n",
    "\n",
    "\n",
    "\n"
   ]
  },
  {
   "cell_type": "markdown",
   "metadata": {},
   "source": [
    "# 20 de Abril #\n",
    "\n",
    "8:40\n",
    "\n",
    "Acabo deinstalar jupyter lab. Es una especie de upgrade del notebook con mas funcionalidades, parece bueno\n",
    "\n"
   ]
  },
  {
   "cell_type": "markdown",
   "metadata": {},
   "source": [
    "# 26 de Abril #\n",
    "\n",
    "9:45\n",
    "\n",
    "Tengo los datos de Konex bien, lindos, pero sin procesar. Ahora quiero hacer lo mismo con lo de FADU\n"
   ]
  },
  {
   "cell_type": "markdown",
   "metadata": {},
   "source": [
    "# 12 de Julio #\n",
    "\n",
    "12:43\n",
    "\n",
    "Hace mucho que vengo trabajando de a puchitos en transformar las encuestas ya hechas en una base de datos amigables. Hice mucho trabajo de codear para eso en ratos libre de docencia durante el cuatrimestre. creo que esta nado el de Fadu y estaavanzado el de la Afa, falta terminar de unificar bien las opciones multiples.\n",
    "\n",
    "La idea es a partir de ahora que estoy con mas tiempo libre retomar el trabajo mas en serio y tratar de darle un cierre.\n",
    "\n",
    "14:59\n",
    "\n",
    "Acabo de terminar de armar el archivo para que lea bien los experimentos RAFA y que los lea todos juntos. Falta el procesamiento especial q estaba a medio hacer para separar info que vino mal agrupada desde el formulario.\n",
    "\n",
    "16:35\n",
    "\n",
    "Acabo de terminar de preprocesar los datos!!!!! :)\n",
    "\n",
    "Mañana deberia retomar viendo que y como conviene analizarlos"
   ]
  },
  {
   "cell_type": "code",
   "execution_count": null,
   "metadata": {},
   "outputs": [],
   "source": []
  }
 ],
 "metadata": {
  "kernelspec": {
   "display_name": "Python 3",
   "language": "python",
   "name": "python3"
  },
  "language_info": {
   "codemirror_mode": {
    "name": "ipython",
    "version": 3
   },
   "file_extension": ".py",
   "mimetype": "text/x-python",
   "name": "python",
   "nbconvert_exporter": "python",
   "pygments_lexer": "ipython3",
   "version": "3.6.5"
  }
 },
 "nbformat": 4,
 "nbformat_minor": 2
}
