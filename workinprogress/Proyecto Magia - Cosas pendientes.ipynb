{
 "cells": [
  {
   "cell_type": "markdown",
   "metadata": {},
   "source": [
    "# Proyecto Magia - Cosas pendientes\n",
    "\n",
    "## Documentacion del proyecto\n",
    "\n",
    "- Motivación (ok)\n",
    "- Estado actual (parcial)\n",
    "- Resultados actuales (parcial)\n",
    "- Proximos pasos\n",
    "\n",
    "## Recopilacion de datos \n",
    "\n",
    "- Buscar formulario (konex)\n",
    "- Buscar archivos escaneados (konex no encontrado)\n",
    "- Buscar base de datos cruda (konex)\n",
    "- Reinterpretar codigos python para procesar datos (konex)\n",
    "\n",
    "## Cosas por aprender\n",
    "\n",
    "- Poner videos e imagenes (ok) incrustadas en Markdown"
   ]
  }
 ],
 "metadata": {
  "kernelspec": {
   "display_name": "Python 3",
   "language": "python",
   "name": "python3"
  },
  "language_info": {
   "codemirror_mode": {
    "name": "ipython",
    "version": 3
   },
   "file_extension": ".py",
   "mimetype": "text/x-python",
   "name": "python",
   "nbconvert_exporter": "python",
   "pygments_lexer": "ipython3",
   "version": "3.6.4"
  }
 },
 "nbformat": 4,
 "nbformat_minor": 2
}
