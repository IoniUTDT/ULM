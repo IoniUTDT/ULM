{
 "cells": [
  {
   "cell_type": "markdown",
   "metadata": {},
   "source": [
    "<h1> Git </h1>\n",
    "https://git-scm.com/book/es/v1/Empezando (Git explicado sencillo pero detallado)\n",
    "<h1> HTML </h1> \n",
    "https://www.tutorialspoint.com/html/html_basic_tags.htm (Comandos basico de HTML utiles para editar estas notas)"
   ]
  }
 ],
 "metadata": {
  "kernelspec": {
   "display_name": "Python 3",
   "language": "python",
   "name": "python3"
  },
  "language_info": {
   "codemirror_mode": {
    "name": "ipython",
    "version": 3
   },
   "file_extension": ".py",
   "mimetype": "text/x-python",
   "name": "python",
   "nbconvert_exporter": "python",
   "pygments_lexer": "ipython3",
   "version": "3.4.3"
  }
 },
 "nbformat": 4,
 "nbformat_minor": 0
}
