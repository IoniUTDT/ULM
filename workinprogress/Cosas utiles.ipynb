{
 "cells": [
  {
   "cell_type": "markdown",
   "metadata": {},
   "source": [
    "<h1> Git </h1>\n",
    "https://git-scm.com/book/es/v1/Empezando (Git explicado sencillo pero detallado)\n",
    "<h1> HTML </h1> \n",
    "https://www.tutorialspoint.com/html/html_basic_tags.htm (Comandos basico de HTML utiles para editar estas notas)\n",
    "<h1> Markdown </h1>\n",
    "https://beegit.com/markdown-cheat-sheet (Cosas que se pueden hacer en este espacio) (parece no funcionar del todo)\n",
    "https://daringfireball.net/projects/markdown/syntax\n",
    "<h1> Pandas </h1>\n",
    "https://tryolabs.com/blog/2017/03/16/pandas-seaborn-a-guide-to-handle-visualize-data-elegantly/"
   ]
  },
  {
   "cell_type": "code",
   "execution_count": null,
   "metadata": {
    "collapsed": true
   },
   "outputs": [],
   "source": []
  }
 ],
 "metadata": {
  "kernelspec": {
   "display_name": "Python 3",
   "language": "python",
   "name": "python3"
  },
  "language_info": {
   "codemirror_mode": {
    "name": "ipython",
    "version": 3
   },
   "file_extension": ".py",
   "mimetype": "text/x-python",
   "name": "python",
   "nbconvert_exporter": "python",
   "pygments_lexer": "ipython3",
   "version": "3.6.4"
  }
 },
 "nbformat": 4,
 "nbformat_minor": 1
}
